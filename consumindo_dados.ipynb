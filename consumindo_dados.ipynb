{
  "cells": [
    {
      "cell_type": "markdown",
      "metadata": {
        "id": "tILcYhGDCK8a"
      },
      "source": [
        "# Consumindos dados do Dataset"
      ]
    },
    {
      "cell_type": "markdown",
      "metadata": {
        "id": "PuzhVLiECK8f"
      },
      "source": [
        "## MONTANDO O DRIVE"
      ]
    },
    {
      "cell_type": "markdown",
      "metadata": {
        "id": "0IbzbMmdKCpY"
      },
      "source": [
        "Dataset utilizada do [Kaggle](https://www.kaggle.com/gpreda/covid-world-vaccination-progress) - **COVID-19 World Vaccination Progress**"
      ]
    },
    {
      "cell_type": "markdown",
      "metadata": {
        "id": "YwXNuv4CJpu8"
      },
      "source": [
        "Iniciamos importando as bibliotecas"
      ]
    },
    {
      "cell_type": "code",
      "execution_count": 4,
      "metadata": {
        "id": "geiJdNATImjq"
      },
      "outputs": [],
      "source": [
        "#pip install pyodbc"
      ]
    },
    {
      "cell_type": "code",
      "execution_count": 10,
      "metadata": {
        "id": "U-oGAGy285mD"
      },
      "outputs": [],
      "source": [
        "import pandas as pd #Tratamento e tranformação de dataframes\n",
        "import pyodbc #Conector do banco de dados SQL Server\n",
        "import sys\n",
        "import os"
      ]
    },
    {
      "cell_type": "markdown",
      "metadata": {
        "id": "k2bCpCQc9Jqp"
      },
      "source": [
        "## CARREGANDO O DATASET"
      ]
    },
    {
      "cell_type": "code",
      "execution_count": 11,
      "metadata": {
        "colab": {
          "base_uri": "https://localhost:8080/",
          "height": 424
        },
        "id": "AHmstRdsMjLW",
        "outputId": "6129b8a9-da3e-4c2f-9779-4505d0c49ea6"
      },
      "outputs": [
        {
          "data": {
            "text/html": [
              "<div>\n",
              "<style scoped>\n",
              "    .dataframe tbody tr th:only-of-type {\n",
              "        vertical-align: middle;\n",
              "    }\n",
              "\n",
              "    .dataframe tbody tr th {\n",
              "        vertical-align: top;\n",
              "    }\n",
              "\n",
              "    .dataframe thead th {\n",
              "        text-align: right;\n",
              "    }\n",
              "</style>\n",
              "<table border=\"1\" class=\"dataframe\">\n",
              "  <thead>\n",
              "    <tr style=\"text-align: right;\">\n",
              "      <th></th>\n",
              "      <th>location</th>\n",
              "      <th>date</th>\n",
              "      <th>vaccine</th>\n",
              "      <th>total_vaccinations</th>\n",
              "    </tr>\n",
              "  </thead>\n",
              "  <tbody>\n",
              "    <tr>\n",
              "      <th>0</th>\n",
              "      <td>Austria</td>\n",
              "      <td>2021-01-08</td>\n",
              "      <td>Johnson&amp;Johnson</td>\n",
              "      <td>0</td>\n",
              "    </tr>\n",
              "    <tr>\n",
              "      <th>1</th>\n",
              "      <td>Austria</td>\n",
              "      <td>2021-01-08</td>\n",
              "      <td>Moderna</td>\n",
              "      <td>0</td>\n",
              "    </tr>\n",
              "    <tr>\n",
              "      <th>2</th>\n",
              "      <td>Austria</td>\n",
              "      <td>2021-01-08</td>\n",
              "      <td>Oxford/AstraZeneca</td>\n",
              "      <td>0</td>\n",
              "    </tr>\n",
              "    <tr>\n",
              "      <th>3</th>\n",
              "      <td>Austria</td>\n",
              "      <td>2021-01-08</td>\n",
              "      <td>Pfizer/BioNTech</td>\n",
              "      <td>31475</td>\n",
              "    </tr>\n",
              "    <tr>\n",
              "      <th>4</th>\n",
              "      <td>Austria</td>\n",
              "      <td>2021-01-15</td>\n",
              "      <td>Johnson&amp;Johnson</td>\n",
              "      <td>0</td>\n",
              "    </tr>\n",
              "    <tr>\n",
              "      <th>...</th>\n",
              "      <td>...</td>\n",
              "      <td>...</td>\n",
              "      <td>...</td>\n",
              "      <td>...</td>\n",
              "    </tr>\n",
              "    <tr>\n",
              "      <th>26270</th>\n",
              "      <td>European Union</td>\n",
              "      <td>2022-01-07</td>\n",
              "      <td>Oxford/AstraZeneca</td>\n",
              "      <td>67339955</td>\n",
              "    </tr>\n",
              "    <tr>\n",
              "      <th>26271</th>\n",
              "      <td>European Union</td>\n",
              "      <td>2022-01-07</td>\n",
              "      <td>Pfizer/BioNTech</td>\n",
              "      <td>525007958</td>\n",
              "    </tr>\n",
              "    <tr>\n",
              "      <th>26272</th>\n",
              "      <td>European Union</td>\n",
              "      <td>2022-01-07</td>\n",
              "      <td>Sinopharm/Beijing</td>\n",
              "      <td>2242654</td>\n",
              "    </tr>\n",
              "    <tr>\n",
              "      <th>26273</th>\n",
              "      <td>European Union</td>\n",
              "      <td>2022-01-07</td>\n",
              "      <td>Sinovac</td>\n",
              "      <td>9</td>\n",
              "    </tr>\n",
              "    <tr>\n",
              "      <th>26274</th>\n",
              "      <td>European Union</td>\n",
              "      <td>2022-01-07</td>\n",
              "      <td>Sputnik V</td>\n",
              "      <td>1845079</td>\n",
              "    </tr>\n",
              "  </tbody>\n",
              "</table>\n",
              "<p>26275 rows × 4 columns</p>\n",
              "</div>"
            ],
            "text/plain": [
              "             location        date             vaccine  total_vaccinations\n",
              "0             Austria  2021-01-08     Johnson&Johnson                   0\n",
              "1             Austria  2021-01-08             Moderna                   0\n",
              "2             Austria  2021-01-08  Oxford/AstraZeneca                   0\n",
              "3             Austria  2021-01-08     Pfizer/BioNTech               31475\n",
              "4             Austria  2021-01-15     Johnson&Johnson                   0\n",
              "...               ...         ...                 ...                 ...\n",
              "26270  European Union  2022-01-07  Oxford/AstraZeneca            67339955\n",
              "26271  European Union  2022-01-07     Pfizer/BioNTech           525007958\n",
              "26272  European Union  2022-01-07   Sinopharm/Beijing             2242654\n",
              "26273  European Union  2022-01-07             Sinovac                   9\n",
              "26274  European Union  2022-01-07           Sputnik V             1845079\n",
              "\n",
              "[26275 rows x 4 columns]"
            ]
          },
          "execution_count": 11,
          "metadata": {},
          "output_type": "execute_result"
        }
      ],
      "source": [
        "df = pd.read_csv('./country_vaccinations_by_manufacturer.csv')\n",
        "df"
      ]
    },
    {
      "cell_type": "markdown",
      "metadata": {},
      "source": [
        "# EXPLORANDO OS DADOS"
      ]
    },
    {
      "cell_type": "code",
      "execution_count": 12,
      "metadata": {},
      "outputs": [
        {
          "data": {
            "text/plain": [
              "location              0\n",
              "date                  0\n",
              "vaccine               0\n",
              "total_vaccinations    0\n",
              "dtype: int64"
            ]
          },
          "execution_count": 12,
          "metadata": {},
          "output_type": "execute_result"
        }
      ],
      "source": [
        "#VERIFICANDO SE TEM VALORES NULL\n",
        "\n",
        "df.isnull().sum()"
      ]
    },
    {
      "cell_type": "markdown",
      "metadata": {},
      "source": [
        "Observamos que não existem dados nulos dentro do dataframe."
      ]
    },
    {
      "cell_type": "code",
      "execution_count": 13,
      "metadata": {},
      "outputs": [
        {
          "data": {
            "text/plain": [
              "Pfizer/BioNTech       7282\n",
              "Oxford/AstraZeneca    5497\n",
              "Moderna               5325\n",
              "Johnson&Johnson       4620\n",
              "Sinovac               1961\n",
              "Sinopharm/Beijing      783\n",
              "Sputnik V              439\n",
              "CanSino                368\n",
              "Name: vaccine, dtype: int64"
            ]
          },
          "execution_count": 13,
          "metadata": {},
          "output_type": "execute_result"
        }
      ],
      "source": [
        "#CONTABILIZANDO OS VALORES DA TABELA VACCINE\n",
        "\n",
        "df['vaccine'].value_counts()"
      ]
    },
    {
      "cell_type": "markdown",
      "metadata": {},
      "source": [
        "Temos a conagem de cada ocorrencia das vacinas e a mais usada foi a Pfizer/BioNTech com 7282 dose aplicadas."
      ]
    },
    {
      "cell_type": "code",
      "execution_count": 14,
      "metadata": {},
      "outputs": [
        {
          "data": {
            "text/plain": [
              "(26275, 4)"
            ]
          },
          "execution_count": 14,
          "metadata": {},
          "output_type": "execute_result"
        }
      ],
      "source": [
        "#VERIFICANDO QUANTAS LINHAS E COLUNAS EXISTEM\n",
        "\n",
        "df.shape"
      ]
    },
    {
      "cell_type": "markdown",
      "metadata": {},
      "source": [
        "## MANIPULAÇÃO E TRANSFORMAÇÃO DOS DADOS"
      ]
    },
    {
      "cell_type": "code",
      "execution_count": 15,
      "metadata": {},
      "outputs": [
        {
          "data": {
            "text/html": [
              "<div>\n",
              "<style scoped>\n",
              "    .dataframe tbody tr th:only-of-type {\n",
              "        vertical-align: middle;\n",
              "    }\n",
              "\n",
              "    .dataframe tbody tr th {\n",
              "        vertical-align: top;\n",
              "    }\n",
              "\n",
              "    .dataframe thead th {\n",
              "        text-align: right;\n",
              "    }\n",
              "</style>\n",
              "<table border=\"1\" class=\"dataframe\">\n",
              "  <thead>\n",
              "    <tr style=\"text-align: right;\">\n",
              "      <th></th>\n",
              "      <th>Localizacao</th>\n",
              "      <th>Data</th>\n",
              "      <th>Nome_da_Vacina</th>\n",
              "      <th>Numero_de_Vacinados</th>\n",
              "    </tr>\n",
              "  </thead>\n",
              "  <tbody>\n",
              "    <tr>\n",
              "      <th>0</th>\n",
              "      <td>Austria</td>\n",
              "      <td>2021-01-08</td>\n",
              "      <td>Johnson&amp;Johnson</td>\n",
              "      <td>0</td>\n",
              "    </tr>\n",
              "    <tr>\n",
              "      <th>1</th>\n",
              "      <td>Austria</td>\n",
              "      <td>2021-01-08</td>\n",
              "      <td>Moderna</td>\n",
              "      <td>0</td>\n",
              "    </tr>\n",
              "    <tr>\n",
              "      <th>2</th>\n",
              "      <td>Austria</td>\n",
              "      <td>2021-01-08</td>\n",
              "      <td>Oxford/AstraZeneca</td>\n",
              "      <td>0</td>\n",
              "    </tr>\n",
              "    <tr>\n",
              "      <th>3</th>\n",
              "      <td>Austria</td>\n",
              "      <td>2021-01-08</td>\n",
              "      <td>Pfizer/BioNTech</td>\n",
              "      <td>31475</td>\n",
              "    </tr>\n",
              "    <tr>\n",
              "      <th>4</th>\n",
              "      <td>Austria</td>\n",
              "      <td>2021-01-15</td>\n",
              "      <td>Johnson&amp;Johnson</td>\n",
              "      <td>0</td>\n",
              "    </tr>\n",
              "    <tr>\n",
              "      <th>...</th>\n",
              "      <td>...</td>\n",
              "      <td>...</td>\n",
              "      <td>...</td>\n",
              "      <td>...</td>\n",
              "    </tr>\n",
              "    <tr>\n",
              "      <th>26270</th>\n",
              "      <td>European Union</td>\n",
              "      <td>2022-01-07</td>\n",
              "      <td>Oxford/AstraZeneca</td>\n",
              "      <td>67339955</td>\n",
              "    </tr>\n",
              "    <tr>\n",
              "      <th>26271</th>\n",
              "      <td>European Union</td>\n",
              "      <td>2022-01-07</td>\n",
              "      <td>Pfizer/BioNTech</td>\n",
              "      <td>525007958</td>\n",
              "    </tr>\n",
              "    <tr>\n",
              "      <th>26272</th>\n",
              "      <td>European Union</td>\n",
              "      <td>2022-01-07</td>\n",
              "      <td>Sinopharm/Beijing</td>\n",
              "      <td>2242654</td>\n",
              "    </tr>\n",
              "    <tr>\n",
              "      <th>26273</th>\n",
              "      <td>European Union</td>\n",
              "      <td>2022-01-07</td>\n",
              "      <td>Sinovac</td>\n",
              "      <td>9</td>\n",
              "    </tr>\n",
              "    <tr>\n",
              "      <th>26274</th>\n",
              "      <td>European Union</td>\n",
              "      <td>2022-01-07</td>\n",
              "      <td>Sputnik V</td>\n",
              "      <td>1845079</td>\n",
              "    </tr>\n",
              "  </tbody>\n",
              "</table>\n",
              "<p>26275 rows × 4 columns</p>\n",
              "</div>"
            ],
            "text/plain": [
              "          Localizacao        Data      Nome_da_Vacina  Numero_de_Vacinados\n",
              "0             Austria  2021-01-08     Johnson&Johnson                    0\n",
              "1             Austria  2021-01-08             Moderna                    0\n",
              "2             Austria  2021-01-08  Oxford/AstraZeneca                    0\n",
              "3             Austria  2021-01-08     Pfizer/BioNTech                31475\n",
              "4             Austria  2021-01-15     Johnson&Johnson                    0\n",
              "...               ...         ...                 ...                  ...\n",
              "26270  European Union  2022-01-07  Oxford/AstraZeneca             67339955\n",
              "26271  European Union  2022-01-07     Pfizer/BioNTech            525007958\n",
              "26272  European Union  2022-01-07   Sinopharm/Beijing              2242654\n",
              "26273  European Union  2022-01-07             Sinovac                    9\n",
              "26274  European Union  2022-01-07           Sputnik V              1845079\n",
              "\n",
              "[26275 rows x 4 columns]"
            ]
          },
          "execution_count": 15,
          "metadata": {},
          "output_type": "execute_result"
        }
      ],
      "source": [
        "# RENOMEANDO AS COLUNAS\n",
        "\n",
        "df.columns=['Localizacao','Data','Nome_da_Vacina', 'Numero_de_Vacinados']\n",
        "df"
      ]
    },
    {
      "cell_type": "markdown",
      "metadata": {
        "id": "bdT3bX1OCK80"
      },
      "source": [
        "### Converção de dados"
      ]
    },
    {
      "cell_type": "code",
      "execution_count": 17,
      "metadata": {
        "id": "fYp-Y1eXxqmP"
      },
      "outputs": [],
      "source": [
        "tipo_dados = {                \n",
        "        'Localizacao': 'category',\n",
        "        'Data': 'datetime64',\n",
        "        'Nome_da_Vacina': 'category',\n",
        "        'Numero_de_Vacinados': 'category',     \n",
        "}\n",
        "df = df.astype(tipo_dados)"
      ]
    },
    {
      "cell_type": "code",
      "execution_count": 18,
      "metadata": {
        "colab": {
          "base_uri": "https://localhost:8080/"
        },
        "id": "4IpBAPTKCK81",
        "outputId": "a17a1439-f3a6-4bc8-a82d-c3f9c54549de"
      },
      "outputs": [
        {
          "name": "stdout",
          "output_type": "stream",
          "text": [
            "<class 'pandas.core.frame.DataFrame'>\n",
            "RangeIndex: 26275 entries, 0 to 26274\n",
            "Data columns (total 4 columns):\n",
            " #   Column               Non-Null Count  Dtype         \n",
            "---  ------               --------------  -----         \n",
            " 0   Localizacao          26275 non-null  category      \n",
            " 1   Data                 26275 non-null  datetime64[ns]\n",
            " 2   Nome_da_Vacina       26275 non-null  category      \n",
            " 3   Numero_de_Vacinados  26275 non-null  category      \n",
            "dtypes: category(3), datetime64[ns](1)\n",
            "memory usage: 1005.2 KB\n"
          ]
        }
      ],
      "source": [
        "#VERIFICANDO O TIPO DOS REGISTROS\n",
        "\n",
        "df.info()"
      ]
    },
    {
      "cell_type": "markdown",
      "metadata": {
        "id": "3EMvZXa1CK83"
      },
      "source": [
        "## Inserção no banco de dados SQL Server"
      ]
    },
    {
      "cell_type": "markdown",
      "metadata": {
        "id": "dhLcwTdzCK82"
      },
      "source": [
        "Possíveis drives que funcionam no Python\n",
        "- SQL Server Native Client 11.0\n",
        "- ODBC Driver 17 for SQL Server"
      ]
    },
    {
      "cell_type": "code",
      "execution_count": 12,
      "metadata": {
        "id": "D02jkO7vImj8"
      },
      "outputs": [],
      "source": [
        "#import pyodbc"
      ]
    },
    {
      "cell_type": "code",
      "execution_count": 19,
      "metadata": {
        "id": "VhTWLm6lImj8"
      },
      "outputs": [],
      "source": [
        "## Inserção no banco de dados SQL Server\n",
        "Server = ''\n",
        "Database = ''\n",
        "\n",
        "# Utilize o drive disponível no servidor e usuario logado no computador\n",
        "conexao = pyodbc.connect('Driver={SQL Server Native Client 11.0};Server='+ Server +';Database='+ Database +';Trusted_Connection=yes;')\n",
        "cursor = conexao.cursor()\n"
      ]
    },
    {
      "cell_type": "code",
      "execution_count": 14,
      "metadata": {
        "id": "aITITqjZImj9",
        "outputId": "55f0b8cc-a380-4e9e-aa38-e9b39afa6f7f"
      },
      "outputs": [
        {
          "name": "stdout",
          "output_type": "stream",
          "text": [
            "Conexão ao SQl Server foi encerrada!\n"
          ]
        }
      ],
      "source": [
        "# INSERT Dataframe into SQL Server:\n",
        "for index, row in df.iterrows():\n",
        "   cursor.execute(\"\"\"\n",
        "        INSERT INTO COVID_19 ([location],[date],[vaccine],[total_vaccinations]) \n",
        "        VALUES( ?, ?, ?, ? )\"\"\",\n",
        "        row.Localizacao, row.Data, row.Nome_da_Vacina, row.Numero_de_Vacinados\n",
        "    )\n",
        "\n",
        "conexao.commit()\n",
        "cursor.close()\n",
        "print(\"Conexão ao SQl Server foi encerrada!\")"
      ]
    },
    {
      "cell_type": "markdown",
      "metadata": {
        "id": "X93r4hJhCK89"
      },
      "source": [
        "**FIM**"
      ]
    }
  ],
  "metadata": {
    "colab": {
      "collapsed_sections": [],
      "name": "consumindo_dados.ipynb",
      "provenance": []
    },
    "interpreter": {
      "hash": "ece4d421897cfb5caf999b367ba2a3b9fcd46b5ceba361b78883f656d0be08e6"
    },
    "kernelspec": {
      "display_name": "Python 3.9.0 64-bit ('venv': venv)",
      "name": "python3"
    },
    "language_info": {
      "codemirror_mode": {
        "name": "ipython",
        "version": 3
      },
      "file_extension": ".py",
      "mimetype": "text/x-python",
      "name": "python",
      "nbconvert_exporter": "python",
      "pygments_lexer": "ipython3",
      "version": "3.8.9"
    }
  },
  "nbformat": 4,
  "nbformat_minor": 0
}
